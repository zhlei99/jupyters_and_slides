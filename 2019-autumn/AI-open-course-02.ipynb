{
 "cells": [
  {
   "cell_type": "markdown",
   "metadata": {},
   "source": []
  },
  {
   "cell_type": "markdown",
   "metadata": {},
   "source": [
    "## AI Foundation - Part 2"
   ]
  },
  {
   "cell_type": "code",
   "execution_count": 1,
   "metadata": {},
   "outputs": [],
   "source": [
    "%matplotlib inline"
   ]
  },
  {
   "cell_type": "code",
   "execution_count": 15,
   "metadata": {},
   "outputs": [],
   "source": [
    "simple_map = {\n",
    "    'BJ': ['WH', 'NJ'],\n",
    "    'NJ': ['GZ', 'BJ'],\n",
    "    'GZ': ['WH', 'NJ'],\n",
    "    'XA': ['GZ', 'WH'],\n",
    "    'WH': ['GZ', 'XA']\n",
    "}\n",
    "\n",
    "# simple_map = {\n",
    "#     'BJ': ['WH', 'NJ'],\n",
    "#     'NJ': ['GZ', 'BJ'],\n",
    "#     'GZ': ['WH', 'NJ'],\n",
    "#     'XA': ['GZ', 'WH'],\n",
    "#     'WH': ['GZ', '西安']\n",
    "# }"
   ]
  },
  {
   "cell_type": "code",
   "execution_count": 7,
   "metadata": {},
   "outputs": [],
   "source": [
    "import networkx as nx"
   ]
  },
  {
   "cell_type": "code",
   "execution_count": 8,
   "metadata": {},
   "outputs": [],
   "source": [
    "graph = nx.Graph(simple_map)"
   ]
  },
  {
   "cell_type": "code",
   "execution_count": 14,
   "metadata": {},
   "outputs": [
    {
     "data": {
      "image/png": "[encoded data removed]",
      "text/plain": [
       "<Figure size 432x288 with 1 Axes>"
      ]
     },
     "metadata": {},
     "output_type": "display_data"
    }
   ],
   "source": [
    "nx.draw(graph, with_labels=True, fonts=40)"
   ]
  },
  {
   "cell_type": "code",
   "execution_count": 27,
   "metadata": {},
   "outputs": [],
   "source": [
    "def search(start_point, desitination, connection: dict):\n",
    "    \n",
    "    seen = set() # 集合\n",
    "    \n",
    "    need_to_check = [start_point]\n",
    "        \n",
    "    while need_to_check:\n",
    "        froniter = need_to_check.pop(0)\n",
    "        \n",
    "        print('now I am checking the : {}'.format(froniter))\n",
    "        \n",
    "        if froniter in seen: continue\n",
    "            \n",
    "        adjacents = connection[froniter]\n",
    "        \n",
    "        print('{} has adjacents: {}'.format(froniter, adjacents))\n",
    "\n",
    "        for city in adjacents:\n",
    "            if city == desitination: print('## find {} ## '.format(city))            \n",
    "            else:\n",
    "                need_to_check.append(city)\n",
    "                \n",
    "        seen.add(froniter)"
   ]
  },
  {
   "cell_type": "code",
   "execution_count": 28,
   "metadata": {},
   "outputs": [
    {
     "name": "stdout",
     "output_type": "stream",
     "text": [
      "now I am checking the : BJ\n",
      "BJ has adjacents: ['WH', 'NJ']\n",
      "now I am checking the : WH\n",
      "WH has adjacents: ['GZ', 'XA']\n",
      "## find XA ## \n",
      "now I am checking the : NJ\n",
      "NJ has adjacents: ['GZ', 'BJ']\n",
      "now I am checking the : GZ\n",
      "GZ has adjacents: ['WH', 'NJ']\n",
      "now I am checking the : GZ\n",
      "now I am checking the : BJ\n",
      "now I am checking the : WH\n",
      "now I am checking the : NJ\n"
     ]
    }
   ],
   "source": [
    "search('BJ', 'XA', simple_map) "
   ]
  },
  {
   "cell_type": "markdown",
   "metadata": {},
   "source": [
    "## 输入了一个开始节点和一个地图信息，然后我就开始一个一个城市的依据链接关系进行扩展，后来就找到了最终的终点。"
   ]
  },
  {
   "cell_type": "markdown",
   "metadata": {},
   "source": [
    "## 稍微加几句，你就变成一个 “高德导航了”， 思考：怎么样，把具体的链接路径 记录下来呢？ "
   ]
  },
  {
   "cell_type": "markdown",
   "metadata": {},
   "source": [
    "## Dynamic Programming"
   ]
  },
  {
   "cell_type": "code",
   "execution_count": 73,
   "metadata": {},
   "outputs": [],
   "source": [
    "prices = [1, 5, 8, 9, 10, 17, 17, 20, 24, 25]"
   ]
  },
  {
   "cell_type": "code",
   "execution_count": 74,
   "metadata": {},
   "outputs": [],
   "source": [
    "assert len(prices) == 10"
   ]
  },
  {
   "cell_type": "code",
   "execution_count": 75,
   "metadata": {},
   "outputs": [],
   "source": [
    "from collections import defaultdict"
   ]
  },
  {
   "cell_type": "code",
   "execution_count": 76,
   "metadata": {},
   "outputs": [],
   "source": [
    "length_and_price = defaultdict(int)"
   ]
  },
  {
   "cell_type": "code",
   "execution_count": 77,
   "metadata": {},
   "outputs": [],
   "source": [
    "for i, p in enumerate(prices):\n",
    "    length_and_price[i + 1] = p\n",
    "\n",
    "#length_and_price = {\n",
    "#    i + 1 : p for i, p in enumerate(prices)\n",
    "#}"
   ]
  },
  {
   "cell_type": "code",
   "execution_count": 78,
   "metadata": {},
   "outputs": [
    {
     "data": {
      "text/plain": [
       "defaultdict(int,\n",
       "            {1: 1,\n",
       "             2: 5,\n",
       "             3: 8,\n",
       "             4: 9,\n",
       "             5: 10,\n",
       "             6: 17,\n",
       "             7: 17,\n",
       "             8: 20,\n",
       "             9: 24,\n",
       "             10: 25})"
      ]
     },
     "execution_count": 78,
     "metadata": {},
     "output_type": "execute_result"
    }
   ],
   "source": [
    "length_and_price"
   ]
  },
  {
   "cell_type": "code",
   "execution_count": 79,
   "metadata": {},
   "outputs": [
    {
     "data": {
      "text/plain": [
       "0"
      ]
     },
     "execution_count": 79,
     "metadata": {},
     "output_type": "execute_result"
    }
   ],
   "source": [
    "length_and_price[18]"
   ]
  },
  {
   "cell_type": "code",
   "execution_count": 86,
   "metadata": {},
   "outputs": [],
   "source": [
    "from functools import lru_cache"
   ]
  },
  {
   "cell_type": "code",
   "execution_count": 95,
   "metadata": {},
   "outputs": [],
   "source": [
    "solution = {}\n",
    "\n",
    "@lru_cache(maxsize=2**10)\n",
    "def optimal(n):\n",
    "    # function: r, able to get the optimal price of length: n\n",
    "    #[(0, n), (1, n - 1), (2, n-2), (3, n-3), .. (n-1, 1)]\n",
    "    \n",
    "    candidates = [(left, n - left) for left in range(1, n)]    \n",
    "    \n",
    "    ps = [(l, r, optimal(l) + optimal(r)) for l, r in candidates] + [(n, 0, length_and_price[n])]\n",
    "    \n",
    "    best_cut_left, best_cut_right, optimal_price = max(ps, key=lambda x: x[2])\n",
    "    \n",
    "    solution[n] = (best_cut_left, best_cut_right)\n",
    "    \n",
    "    return optimal_price"
   ]
  },
  {
   "cell_type": "code",
   "execution_count": 81,
   "metadata": {},
   "outputs": [
    {
     "data": {
      "text/plain": [
       "22"
      ]
     },
     "execution_count": 81,
     "metadata": {},
     "output_type": "execute_result"
    }
   ],
   "source": [
    "optimal(8)"
   ]
  },
  {
   "cell_type": "code",
   "execution_count": 94,
   "metadata": {},
   "outputs": [
    {
     "name": "stdout",
     "output_type": "stream",
     "text": [
      "CPU times: user 1.11 s, sys: 14.4 ms, total: 1.13 s\n",
      "Wall time: 1.14 s\n"
     ]
    },
    {
     "data": {
      "text/plain": [
       "35"
      ]
     },
     "execution_count": 94,
     "metadata": {},
     "output_type": "execute_result"
    }
   ],
   "source": [
    "%%time\n",
    "optimal(13)"
   ]
  },
  {
   "cell_type": "code",
   "execution_count": null,
   "metadata": {},
   "outputs": [],
   "source": [
    "1s = 1000ms \n",
    "1ms == 1000us "
   ]
  },
  {
   "cell_type": "code",
   "execution_count": 96,
   "metadata": {},
   "outputs": [
    {
     "name": "stdout",
     "output_type": "stream",
     "text": [
      "CPU times: user 103 µs, sys: 1 µs, total: 104 µs\n",
      "Wall time: 110 µs\n"
     ]
    },
    {
     "data": {
      "text/plain": [
       "35"
      ]
     },
     "execution_count": 96,
     "metadata": {},
     "output_type": "execute_result"
    }
   ],
   "source": [
    "%%time\n",
    "optimal(13)"
   ]
  },
  {
   "cell_type": "code",
   "execution_count": 97,
   "metadata": {},
   "outputs": [
    {
     "data": {
      "text/plain": [
       "314"
      ]
     },
     "execution_count": 97,
     "metadata": {},
     "output_type": "execute_result"
    }
   ],
   "source": [
    "optimal(111)"
   ]
  }
 ],
 "metadata": {
  "kernelspec": {
   "display_name": "Python 3",
   "language": "python",
   "name": "python3"
  },
  "language_info": {
   "codemirror_mode": {
    "name": "ipython",
    "version": 3
   },
   "file_extension": ".py",
   "mimetype": "text/x-python",
   "name": "python",
   "nbconvert_exporter": "python",
   "pygments_lexer": "ipython3",
   "version": "3.7.3"
  }
 },
 "nbformat": 4,
 "nbformat_minor": 2
}
