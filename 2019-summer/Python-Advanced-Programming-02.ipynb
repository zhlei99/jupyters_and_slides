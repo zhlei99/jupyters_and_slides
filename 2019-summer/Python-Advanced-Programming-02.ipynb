{
 "cells": [
  {
   "cell_type": "markdown",
   "metadata": {},
   "source": [
    "## Topic - 01: Parameters的参数\n",
    "\n",
    "+ *\\*args*\n",
    "+ **kwargs"
   ]
  },
  {
   "cell_type": "markdown",
   "metadata": {},
   "source": [
    "## decorator"
   ]
  },
  {
   "cell_type": "code",
   "execution_count": 6,
   "metadata": {},
   "outputs": [],
   "source": [
    "import time"
   ]
  },
  {
   "cell_type": "code",
   "execution_count": 125,
   "metadata": {},
   "outputs": [],
   "source": [
    "def add_all(*args): \n",
    "    # when define a function: args -> tuple\n",
    "    print('type: {}'.format(type(args)))\n",
    "#    print(args[0])\n",
    "    return sum(args)"
   ]
  },
  {
   "cell_type": "code",
   "execution_count": 126,
   "metadata": {},
   "outputs": [
    {
     "name": "stdout",
     "output_type": "stream",
     "text": [
      "type: <class 'tuple'>\n"
     ]
    },
    {
     "data": {
      "text/plain": [
       "0"
      ]
     },
     "execution_count": 126,
     "metadata": {},
     "output_type": "execute_result"
    }
   ],
   "source": [
    "add_all()"
   ]
  },
  {
   "cell_type": "code",
   "execution_count": 69,
   "metadata": {},
   "outputs": [
    {
     "name": "stdout",
     "output_type": "stream",
     "text": [
      "type: <class 'tuple'>\n",
      "1\n"
     ]
    },
    {
     "data": {
      "text/plain": [
       "112"
      ]
     },
     "execution_count": 69,
     "metadata": {},
     "output_type": "execute_result"
    }
   ],
   "source": [
    "add_all(1, 1,21, 1, 21, 1,1, 21, 1, 21, 21, 1)"
   ]
  },
  {
   "cell_type": "code",
   "execution_count": 55,
   "metadata": {},
   "outputs": [],
   "source": [
    "def add_two(a, b):\n",
    "    return a + b"
   ]
  },
  {
   "cell_type": "code",
   "execution_count": 56,
   "metadata": {},
   "outputs": [
    {
     "data": {
      "text/plain": [
       "22"
      ]
     },
     "execution_count": 56,
     "metadata": {},
     "output_type": "execute_result"
    }
   ],
   "source": [
    "add_two(10, 12)"
   ]
  },
  {
   "cell_type": "code",
   "execution_count": 67,
   "metadata": {},
   "outputs": [],
   "source": [
    "T = [10, 12]"
   ]
  },
  {
   "cell_type": "code",
   "execution_count": 68,
   "metadata": {},
   "outputs": [
    {
     "data": {
      "text/plain": [
       "22"
      ]
     },
     "execution_count": 68,
     "metadata": {},
     "output_type": "execute_result"
    }
   ],
   "source": [
    "add_two(T[0], T[1])"
   ]
  },
  {
   "cell_type": "code",
   "execution_count": 62,
   "metadata": {},
   "outputs": [
    {
     "data": {
      "text/plain": [
       "22"
      ]
     },
     "execution_count": 62,
     "metadata": {},
     "output_type": "execute_result"
    }
   ],
   "source": [
    "add_two(*T)\n",
    "# when called by a function, *args, args: list/tuple -> split to \n",
    "# arguments one by pne"
   ]
  },
  {
   "cell_type": "code",
   "execution_count": 93,
   "metadata": {},
   "outputs": [
    {
     "name": "stdout",
     "output_type": "stream",
     "text": [
      "type: <class 'tuple'>\n",
      "1\n"
     ]
    },
    {
     "data": {
      "text/plain": [
       "9"
      ]
     },
     "execution_count": 93,
     "metadata": {},
     "output_type": "execute_result"
    }
   ],
   "source": [
    "add_all(1, 1, 1, 1, 1, 1, 1,1,1)"
   ]
  },
  {
   "cell_type": "code",
   "execution_count": 86,
   "metadata": {},
   "outputs": [],
   "source": [
    "def add_time_by_name(age1, age2):\n",
    "    return age1 + age2"
   ]
  },
  {
   "cell_type": "code",
   "execution_count": 84,
   "metadata": {},
   "outputs": [],
   "source": [
    "paramters = {\n",
    "    'age1': 10, \n",
    "    'age2': 20\n",
    "} # it's a dictionary"
   ]
  },
  {
   "cell_type": "code",
   "execution_count": 103,
   "metadata": {},
   "outputs": [
    {
     "data": {
      "text/plain": [
       "30"
      ]
     },
     "execution_count": 103,
     "metadata": {},
     "output_type": "execute_result"
    }
   ],
   "source": [
    "add_time_by_name(**paramters)"
   ]
  },
  {
   "cell_type": "code",
   "execution_count": 102,
   "metadata": {},
   "outputs": [],
   "source": [
    "def get_stu_information(**stu_information):\n",
    "    print(stu_information)\n",
    "    for key, value in stu_information.items():\n",
    "        print(\"He's {} is {}\".format(key, value))"
   ]
  },
  {
   "cell_type": "code",
   "execution_count": 96,
   "metadata": {},
   "outputs": [
    {
     "name": "stdout",
     "output_type": "stream",
     "text": [
      "He's name is Jhon\n",
      "He's age is 10\n"
     ]
    }
   ],
   "source": [
    "get_stu_information({'name': 'Jhon', 'age': 10})"
   ]
  },
  {
   "cell_type": "code",
   "execution_count": 101,
   "metadata": {},
   "outputs": [
    {
     "name": "stdout",
     "output_type": "stream",
     "text": [
      "{'name': 'Jhon', 'age': 10}\n",
      "He's name is Jhon\n",
      "He's age is 10\n"
     ]
    }
   ],
   "source": [
    "get_stu_information(name='Jhon', age=10)"
   ]
  },
  {
   "cell_type": "code",
   "execution_count": 89,
   "metadata": {},
   "outputs": [
    {
     "name": "stdout",
     "output_type": "stream",
     "text": [
      "He is Jhon, age is 22, gets a Master degree\n"
     ]
    }
   ],
   "source": [
    "get_stu_information('Jhon', 22, 'Master')"
   ]
  },
  {
   "cell_type": "code",
   "execution_count": 87,
   "metadata": {},
   "outputs": [
    {
     "data": {
      "text/plain": [
       "30"
      ]
     },
     "execution_count": 87,
     "metadata": {},
     "output_type": "execute_result"
    }
   ],
   "source": [
    "add_time_by_name(**paramters) \n",
    "# *args -> tuple/list -> split one by one\n",
    "# **kwargs -> treat kwargs as a dictionary, paramter_name=value, dictionary: k:v"
   ]
  },
  {
   "cell_type": "code",
   "execution_count": 104,
   "metadata": {},
   "outputs": [],
   "source": [
    "def add_three_number(a, b, c):\n",
    "    return a + b + c"
   ]
  },
  {
   "cell_type": "code",
   "execution_count": 105,
   "metadata": {},
   "outputs": [
    {
     "data": {
      "text/plain": [
       "6"
      ]
     },
     "execution_count": 105,
     "metadata": {},
     "output_type": "execute_result"
    }
   ],
   "source": [
    "add_three_number(1, 2, 3)"
   ]
  },
  {
   "cell_type": "code",
   "execution_count": 106,
   "metadata": {},
   "outputs": [
    {
     "data": {
      "text/plain": [
       "6"
      ]
     },
     "execution_count": 106,
     "metadata": {},
     "output_type": "execute_result"
    }
   ],
   "source": [
    "add_three_number(1, 2, c=3)"
   ]
  },
  {
   "cell_type": "code",
   "execution_count": 109,
   "metadata": {},
   "outputs": [
    {
     "data": {
      "text/plain": [
       "9"
      ]
     },
     "execution_count": 109,
     "metadata": {},
     "output_type": "execute_result"
    }
   ],
   "source": [
    "add_three_number(2, b=3, c=4)"
   ]
  },
  {
   "cell_type": "code",
   "execution_count": 110,
   "metadata": {},
   "outputs": [],
   "source": [
    "def using_time(func):\n",
    "    # decorator\n",
    "    def _wrap(*args, **kwargs): # arguments is a tuple\n",
    "        s = time.time()\n",
    "        \n",
    "        result = func(*args, **kwargs)\n",
    "        \n",
    "        e = time.time()\n",
    "        \n",
    "        print('used time is: {}'.format(e))\n",
    "        \n",
    "        return result\n",
    "    return _wrap"
   ]
  },
  {
   "cell_type": "code",
   "execution_count": 27,
   "metadata": {},
   "outputs": [],
   "source": [
    "import time"
   ]
  },
  {
   "cell_type": "code",
   "execution_count": 119,
   "metadata": {},
   "outputs": [],
   "source": [
    "def is_valid(user_name, pwd):\n",
    "    max_accpet_length = 8\n",
    "    pwd_min_length = 8\n",
    "    return len(user_name) >= max_accpet_length and len(pwd) > pwd_min_length\n",
    "\n",
    "@using_time\n",
    "def sign(user_name, password, login_time, gender='F', age=20):\n",
    "    if is_valid(user_name, password):\n",
    "        time.sleep(0.1)\n",
    "        print('user: {} access to the database'.format(user_name))\n",
    "    else:\n",
    "        print('Login INVALIDA!')"
   ]
  },
  {
   "cell_type": "code",
   "execution_count": 121,
   "metadata": {},
   "outputs": [
    {
     "name": "stdout",
     "output_type": "stream",
     "text": [
      "user: jasdjklasjdajkdsjla access to the database\n",
      "used time is: 1569589548.037641\n"
     ]
    }
   ],
   "source": [
    "sign('jasdjklasjdajkdsjla', '12345ddff6', login_time='2019-09-28', age=30)"
   ]
  },
  {
   "cell_type": "markdown",
   "metadata": {},
   "source": [
    "### 从decorator开始讲起，如果处理更多的参数内容？ "
   ]
  },
  {
   "cell_type": "markdown",
   "metadata": {},
   "source": [
    "## Topic - 02: Simple but Powerful  正则表达式的使用"
   ]
  },
  {
   "cell_type": "code",
   "execution_count": 127,
   "metadata": {},
   "outputs": [],
   "source": [
    "import requests"
   ]
  },
  {
   "cell_type": "code",
   "execution_count": 128,
   "metadata": {},
   "outputs": [],
   "source": [
    "url = \"https://movie.douban.com/subject/30210691/?tag=%E7%83%AD%E9%97%A8&from=gaia\""
   ]
  },
  {
   "cell_type": "code",
   "execution_count": 130,
   "metadata": {},
   "outputs": [],
   "source": [
    "r = requests.get(url) # request.post"
   ]
  },
  {
   "cell_type": "markdown",
   "metadata": {},
   "source": [
    "## 访问页面： Post： 输入用户名密码的 , Get 是需要用户名密码的"
   ]
  },
  {
   "cell_type": "code",
   "execution_count": 140,
   "metadata": {},
   "outputs": [],
   "source": [
    "html_content = r.text"
   ]
  },
  {
   "cell_type": "code",
   "execution_count": 212,
   "metadata": {},
   "outputs": [],
   "source": [
    "def get_main_information_from_html_content(content):\n",
    "    key_information_pattern_2 = \"\"\"<div class=\"info-area\">\\s*.*\\s*<strong>(.*)</strong>\\s*<p>(.*)</p>\"\"\"\n",
    "    info = re.findall(key_information_pattern_2, content)\n",
    "    if info: \n",
    "        return info[0]\n",
    "    else:\n",
    "        return None"
   ]
  },
  {
   "cell_type": "code",
   "execution_count": 213,
   "metadata": {},
   "outputs": [
    {
     "data": {
      "text/plain": [
       "('极限逃生 엑시트\\u200e (2019)', '导演 李相槿 主演 曹政奭 / 林允儿 / 韩国 / 7.6分(45616评价)')"
      ]
     },
     "execution_count": 213,
     "metadata": {},
     "output_type": "execute_result"
    }
   ],
   "source": [
    "get_main_information_from_html_content(r.text)"
   ]
  },
  {
   "cell_type": "code",
   "execution_count": 156,
   "metadata": {},
   "outputs": [],
   "source": [
    "starts_pattern = \"(\\d+\\.\\d+)分\\((\\d+)评价\\)\""
   ]
  },
  {
   "cell_type": "code",
   "execution_count": null,
   "metadata": {},
   "outputs": [],
   "source": [
    "starts_pattern_2 = \".\""
   ]
  },
  {
   "cell_type": "code",
   "execution_count": 157,
   "metadata": {},
   "outputs": [],
   "source": [
    "import re"
   ]
  },
  {
   "cell_type": "code",
   "execution_count": 159,
   "metadata": {},
   "outputs": [
    {
     "data": {
      "text/plain": [
       "{('7.6', '45616')}"
      ]
     },
     "execution_count": 159,
     "metadata": {},
     "output_type": "execute_result"
    }
   ],
   "source": [
    "set(re.findall(starts_pattern, html_content))"
   ]
  },
  {
   "cell_type": "markdown",
   "metadata": {},
   "source": [
    "### -> 从豆瓣爬虫开始讲起：从零实现一个爬虫"
   ]
  },
  {
   "cell_type": "code",
   "execution_count": 207,
   "metadata": {},
   "outputs": [],
   "source": [
    "related_link = '<a href=\"(https://movie.douban.com/subject/\\d+/\\?from=subject-page)\" >'"
   ]
  },
  {
   "cell_type": "code",
   "execution_count": 214,
   "metadata": {},
   "outputs": [],
   "source": [
    "def get_related_links(content):\n",
    "    return re.findall(related_link, content)"
   ]
  },
  {
   "cell_type": "code",
   "execution_count": 217,
   "metadata": {},
   "outputs": [
    {
     "data": {
      "text/plain": [
       "<Response [200]>"
      ]
     },
     "execution_count": 217,
     "metadata": {},
     "output_type": "execute_result"
    }
   ],
   "source": [
    "requests.get(get_related_links(r.text)[0]).text"
   ]
  },
  {
   "cell_type": "code",
   "execution_count": 230,
   "metadata": {},
   "outputs": [],
   "source": [
    "def spider_get_lots(beginning_url):\n",
    "    unvisited = [beginning_url]\n",
    "    seen = set()\n",
    "    \n",
    "    max_seen_num = 30\n",
    "    \n",
    "    while unvisited:\n",
    "        froniter = unvisited.pop(0)\n",
    "        \n",
    "        if froniter in seen: continue \n",
    "            \n",
    "        content = requests.get(froniter).text\n",
    "        \n",
    "        main_info = get_main_information_from_html_content(content)\n",
    "        \n",
    "        print(main_info)\n",
    "        \n",
    "        related_links = get_related_links(content)\n",
    "        \n",
    "        unvisited += related_links\n",
    "        \n",
    "        seen.add(froniter)\n",
    "        \n",
    "        if len(seen) > max_seen_num: break"
   ]
  },
  {
   "cell_type": "code",
   "execution_count": 231,
   "metadata": {},
   "outputs": [
    {
     "name": "stdout",
     "output_type": "stream",
     "text": [
      "('盗梦空间 Inception\\u200e (2010)', '导演 克里斯托弗·诺兰 主演 莱昂纳多·迪卡普里奥 / 约瑟夫·高登-莱维特 / 美国 / 英国 / 9.3分(12343...')\n",
      "('致命魔术 The Prestige\\u200e (2006)', '导演 克里斯托弗·诺兰 主演 休·杰克曼 / 克里斯蒂安·贝尔 / 美国 / 英国 / 8.8分(513132评价)')\n",
      "('源代码 Source Code\\u200e (2011)', '导演 邓肯·琼斯 主演 杰克·吉伦哈尔 / 维拉·法米加 / 美国 / 加拿大 / 8.4分(530793评价)')\n",
      "('阿凡达 Avatar\\u200e (2009)', '导演 詹姆斯·卡梅隆 主演 萨姆·沃辛顿 / 佐伊·索尔达娜 / 美国 / 英国 / 8.7分(813371评价)')\n",
      "('蝴蝶效应 The Butterfly Effect\\u200e (2004)', '导演 埃里克·布雷斯 主演 阿什顿·库彻 / 梅洛拉·沃尔特斯 / 美国 / 加拿大 / 8.8分(565471评价)')\n",
      "('黑客帝国 The Matrix\\u200e (1999)', '导演 莉莉·沃卓斯基 主演 基努·里维斯 / 劳伦斯·菲什伯恩 / 美国 / 澳大利亚 / 8.9分(451963评价)')\n",
      "('星际穿越 Interstellar\\u200e (2014)', '导演 克里斯托弗·诺兰 主演 马修·麦康纳 / 安妮·海瑟薇 / 美国 / 英国 / 9.3分(890510评价)')\n",
      "('禁闭岛 Shutter Island\\u200e (2010)', '导演 马丁·斯科塞斯 主演 莱昂纳多·迪卡普里奥 / 马克·鲁弗洛 / 美国 / 8.8分(555946评价)')\n",
      "('这个男人来自地球 The Man from Earth\\u200e (2007)', '导演 理查德·沙因克曼 主演 大卫·李·史密斯 / 托尼·托德 / 美国 / 8.5分(250220评价)')\n",
      "('记忆碎片 Memento\\u200e (2000)', '导演 克里斯托弗·诺兰 主演 盖·皮尔斯 / 凯瑞-安·莫斯 / 美国 / 8.6分(382723评价)')\n",
      "('变形金刚 Transformers\\u200e (2007)', '导演 迈克尔·贝 主演 希亚·拉博夫 / 泰瑞斯·吉布森 / 美国 / 8.2分(329060评价)')\n",
      "('盗梦空间 Inception\\u200e (2010)', '导演 克里斯托弗·诺兰 主演 莱昂纳多·迪卡普里奥 / 约瑟夫·高登-莱维特 / 美国 / 英国 / 9.3分(12343...')\n",
      "('穆赫兰道 Mulholland Dr.\\u200e (2001)', '导演 大卫·林奇 主演 娜奥米·沃茨 / 劳拉·哈灵 / 法国 / 美国 / 8.3分(296396评价)')\n",
      "('看不见的客人 Contratiempo\\u200e (2016)', '导演 奥里奥尔·保罗 主演 马里奥·卡萨斯 / 阿娜·瓦格纳 / 西班牙 / 8.8分(663525评价)')\n",
      "('致命ID Identity\\u200e (2003)', '导演 詹姆斯·曼高德 主演 约翰·库萨克 / 雷·利奥塔 / 美国 / 8.7分(468316评价)')\n",
      "('七宗罪 Se7en\\u200e (1995)', '导演 大卫·芬奇 主演 摩根·弗里曼 / 布拉德·皮特 / 美国 / 8.8分(609488评价)')\n",
      "('追随 Following\\u200e (1998)', '导演 克里斯托弗·诺兰 主演 杰里米·西奥伯德 / 亚历克斯·霍 / 英国 / 8.9分(111390评价)')\n",
      "('月球 Moon\\u200e (2009)', '导演 邓肯·琼斯 主演 山姆·洛克威尔 / 凯文·史派西 / 英国 / 8.5分(184212评价)')\n",
      "('第九区 District 9\\u200e (2009)', '导演 尼尔·布洛姆坎普 主演 沙尔托·科普雷 / 詹森·库伯 / 美国 / 新西兰 / 8.2分(295988评价)')\n",
      "('明日边缘 Edge of Tomorrow\\u200e (2014)', '导演 道格·里曼 主演 汤姆·克鲁斯 / 艾米莉·布朗特 / 美国 / 加拿大 / 8.1分(332983评价)')\n",
      "('我是传奇 I Am Legend\\u200e (2007)', '导演 弗朗西斯·劳伦斯 主演 威尔·史密斯 / 艾莉丝·布拉加 / 美国 / 8.0分(273283评价)')\n",
      "('E.T. 外星人 E.T.: The Extra-Terrestrial\\u200e (1982)', '导演 史蒂文·斯皮尔伯格 主演 亨利·托马斯 / 迪·沃伦斯 / 美国 / 8.6分(217177评价)')\n",
      "('终结者2：审判日 Terminator 2: Judgment Day\\u200e (1991)', '导演 詹姆斯·卡梅隆 主演 阿诺·施瓦辛格 / 琳达·汉密尔顿 / 美国 / 法国 / 8.7分(205030评价)')\n",
      "('钢铁侠 Iron Man\\u200e (2008)', '导演 乔恩·费儒 主演 小罗伯特·唐尼 / 泰伦斯·霍华德 / 美国 / 8.2分(407665评价)')\n",
      "('恐怖游轮 Triangle\\u200e (2009)', '导演 克里斯托弗·史密斯 主演 梅利莎·乔治 / 利亚姆·海姆斯沃斯 / 英国 / 澳大利亚 / 8.4分(473614评价)')\n",
      "('第六感 The Sixth Sense\\u200e (1999)', '导演 M·奈特·沙马兰 主演 布鲁斯·威利斯 / 海利·乔·奥斯蒙 / 美国 / 8.8分(335316评价)')\n",
      "('黑客帝国3：矩阵革命 The Matrix Revolutions\\u200e (2003)', '导演 莉莉·沃卓斯基 主演 基努·里维斯 / 劳伦斯·菲什伯恩 / 美国 / 澳大利亚 / 8.7分(235355评价)')\n",
      "('我，机器人 I, Robot\\u200e (2004)', '导演 亚历克斯·普罗亚斯 主演 威尔·史密斯 / 布丽姬·穆娜 / 美国 / 德国 / 8.1分(190933评价)')\n",
      "('火星救援 The Martian\\u200e (2015)', '导演 雷德利·斯科特 主演 马特·达蒙 / 杰西卡·查斯坦 / 美国 / 英国 / 8.4分(433600评价)')\n",
      "('头号玩家 Ready Player One\\u200e (2018)', '导演 史蒂文·斯皮尔伯格 主演 泰伊·谢里丹 / 奥利维亚·库克 / 美国 / 8.7分(855783评价)')\n",
      "('X战警：逆转未来 X-Men: Days of Future Past\\u200e (2014)', '导演 布莱恩·辛格 主演 休·杰克曼 / 詹姆斯·麦卡沃伊 / 美国 / 英国 / 8.2分(353193评价)')\n"
     ]
    }
   ],
   "source": [
    "spider_get_lots('https://movie.douban.com/subject/3541415/')"
   ]
  },
  {
   "cell_type": "markdown",
   "metadata": {},
   "source": [
    "\n",
    "## 1. Iteration\n",
    "\n",
    "## 2. Randomization\n",
    "\n",
    "## 3. Divide and Conqure\n",
    "\n",
    "## 4. Graph Search\n",
    "\n",
    "## 5. Dynamic Programming(Greedy Programming)\n",
    "\n",
    "## 6. Hash Algorithm\n"
   ]
  },
  {
   "cell_type": "markdown",
   "metadata": {},
   "source": [
    "### -> 从爬虫到有限自动机:  Html文件的加颜色问题"
   ]
  },
  {
   "cell_type": "code",
   "execution_count": 300,
   "metadata": {},
   "outputs": [],
   "source": [
    "html_span = \"\"\"<span class=\"stars5 starstop\" title=\"力荐\">\n",
    "            5星\n",
    "        </span>\n",
    "        <div class=\"power\" style=\"width:23px\"></div>\n",
    "        <span class=\"rating_per\">17.8%</span>\n",
    "        <br />测试测试classhe>class\n",
    "        </div>\n",
    "        <div class=\"item\">\n",
    "        <h1>测</h1><h2>试</h2>\n",
    "        \"\"\""
   ]
  },
  {
   "cell_type": "code",
   "execution_count": 290,
   "metadata": {},
   "outputs": [],
   "source": [
    "TEXT = 'text'\n",
    "CODE = 'code'\n",
    "TEXT_BEGIN = 'text_begin'"
   ]
  },
  {
   "cell_type": "code",
   "execution_count": 297,
   "metadata": {},
   "outputs": [],
   "source": [
    "state_transfer = (\n",
    "    (TEXT, '<', CODE),\n",
    "    (TEXT, '.', TEXT),\n",
    "    (CODE, '>', TEXT),\n",
    "    (CODE, '.', CODE)\n",
    ") # 1 step look forward"
   ]
  },
  {
   "cell_type": "code",
   "execution_count": 298,
   "metadata": {},
   "outputs": [],
   "source": [
    "current_state = TEXT"
   ]
  },
  {
   "cell_type": "code",
   "execution_count": 299,
   "metadata": {},
   "outputs": [
    {
     "name": "stdout",
     "output_type": "stream",
     "text": [
      "             5 星                            1 7 . 8 %          测 试 测 试 c l a s s h e c l a s s                   "
     ]
    }
   ],
   "source": [
    "new_html = ''\n",
    "\n",
    "all_text = ''\n",
    "\n",
    "target = 'class'\n",
    "\n",
    "for c in html_span:\n",
    "    for c_s, cond, next_s in state_transfer:\n",
    "        if current_state == c_s and c == cond:\n",
    "            current_state = next_s\n",
    "    if current_state == TEXT and c != '>': \n",
    "        print(c.strip(), end=' ')\n",
    "        all_text += c\n",
    "    \n",
    "    new_html += c\n",
    "    \n",
    "    if all_text.endswith(target):\n",
    "            r_index = new_html.rfind(target)\n",
    "            \n",
    "            new_html = new_html[:r_index] + '<mark>'  + target + '</mark>'    \n",
    "#    print('{}: current state is: {}'.format(c, current_state))"
   ]
  },
  {
   "cell_type": "code",
   "execution_count": 296,
   "metadata": {},
   "outputs": [
    {
     "name": "stdout",
     "output_type": "stream",
     "text": [
      "<span class=\"stars5 starstop\" title=\"力荐\">\n",
      "            5星\n",
      "        </span>\n",
      "        <div class=\"power\" style=\"width:23px\"></div>\n",
      "        <span class=\"rating_per\">17.8%</span>\n",
      "        <br />测试测试<mark>class</mark>he><mark>class</mark>\n",
      "        </div>\n",
      "        <div class=\"item\">\n"
     ]
    }
   ],
   "source": [
    "print(new_html)"
   ]
  },
  {
   "cell_type": "markdown",
   "metadata": {},
   "source": [
    "## States: \n",
    "\n",
    "+ Text\n",
    "+ Text - Begin\n",
    "+ Text - End\n",
    "+ Mark\n",
    "+ Mark - Begin\n",
    "+ Mark - End"
   ]
  }
 ],
 "metadata": {
  "kernelspec": {
   "display_name": "Python 3",
   "language": "python",
   "name": "python3"
  },
  "language_info": {
   "codemirror_mode": {
    "name": "ipython",
    "version": 3
   },
   "file_extension": ".py",
   "mimetype": "text/x-python",
   "name": "python",
   "nbconvert_exporter": "python",
   "pygments_lexer": "ipython3",
   "version": "3.7.3"
  }
 },
 "nbformat": 4,
 "nbformat_minor": 2
}
